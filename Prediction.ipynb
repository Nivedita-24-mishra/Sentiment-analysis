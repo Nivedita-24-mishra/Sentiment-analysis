{
 "cells": [
  {
   "cell_type": "code",
   "execution_count": 30,
   "metadata": {},
   "outputs": [],
   "source": [
    "# %matplotlib inline\n",
    "#inlucde libraries\n",
    "import time\n",
    "import pandas as pd\n",
    "import numpy as np\n",
    "import matplotlib.pyplot as plt\n",
    "\n",
    "# import neurolab as nl\n",
    "\n",
    "#import pybrain as pb\n",
    "\n",
    "#SkLearn\n",
    "from numpy import linalg\n",
    "from sklearn.cluster import MiniBatchKMeans, KMeans\n",
    "from sklearn.metrics.pairwise import euclidean_distances\n",
    "from sklearn.metrics.pairwise import pairwise_distances\n",
    "from sklearn.datasets.samples_generator import make_blobs\n",
    "from sklearn.cluster import AffinityPropagation\n",
    "from sklearn import metrics"
   ]
  },
  {
   "cell_type": "markdown",
   "metadata": {},
   "source": [
    "# Step 1. Initialization Step"
   ]
  },
  {
   "cell_type": "code",
   "execution_count": 38,
   "metadata": {},
   "outputs": [
    {
     "name": "stdout",
     "output_type": "stream",
     "text": [
      "5\n",
      "<class 'list'>\n",
      "<class 'pandas.core.series.Series'>\n"
     ]
    }
   ],
   "source": [
    "picture_width = 18\n",
    "picture_height = 5\n",
    "#\n",
    "daily_pattern = 96\n",
    "frequency = daily_pattern\n",
    "forecast_horizon = 96\n",
    "planning_horizon_interval = 2\n",
    "training_set_points = forecast_horizon * planning_horizon_interval\n",
    "\n",
    "maximum_value = 100000.\n",
    "a = [1,2,3,4,5]\n",
    "print(a[int(len(a)) - 1])\n",
    "\n",
    "print (type(a))\n",
    "\n",
    "b= pd.Series(a)\n",
    "print (type(b))"
   ]
  },
  {
   "cell_type": "markdown",
   "metadata": {},
   "source": [
    "# Step 1.1 Load Data"
   ]
  },
  {
   "cell_type": "code",
   "execution_count": 39,
   "metadata": {},
   "outputs": [],
   "source": [
    "path_to_data = '/users/tranhieu/Desktop/Bachelor/Data/'\n",
    "path_to_figures = '/users/tranhieu/Desktop/Bachelor/Data/'\n",
    "\n",
    "posts = pd.read_csv( path_to_data + 'vector_clustering_positive_200posts.csv', index_col=False, header=None)\n",
    "# bemtdata = bemtdata.set_index('ExpectedDateTime')\n",
    "# list(bemtdata.columns.values)"
   ]
  },
  {
   "cell_type": "code",
   "execution_count": 40,
   "metadata": {},
   "outputs": [
    {
     "data": {
      "text/html": [
       "<div>\n",
       "<table border=\"1\" class=\"dataframe\">\n",
       "  <thead>\n",
       "    <tr style=\"text-align: right;\">\n",
       "      <th></th>\n",
       "      <th>0</th>\n",
       "      <th>1</th>\n",
       "      <th>2</th>\n",
       "      <th>3</th>\n",
       "      <th>4</th>\n",
       "      <th>5</th>\n",
       "      <th>6</th>\n",
       "      <th>7</th>\n",
       "      <th>8</th>\n",
       "      <th>9</th>\n",
       "      <th>...</th>\n",
       "      <th>11</th>\n",
       "      <th>12</th>\n",
       "      <th>13</th>\n",
       "      <th>14</th>\n",
       "      <th>15</th>\n",
       "      <th>16</th>\n",
       "      <th>17</th>\n",
       "      <th>18</th>\n",
       "      <th>19</th>\n",
       "      <th>20</th>\n",
       "    </tr>\n",
       "  </thead>\n",
       "  <tbody>\n",
       "    <tr>\n",
       "      <th>0</th>\n",
       "      <td>Christie endorses Trump in shock move</td>\n",
       "      <td>0.1709</td>\n",
       "      <td>0.1347</td>\n",
       "      <td>0.1341</td>\n",
       "      <td>0.1340</td>\n",
       "      <td>0.1333</td>\n",
       "      <td>0.1348</td>\n",
       "      <td>0.1362</td>\n",
       "      <td>0.1366</td>\n",
       "      <td>0.1389</td>\n",
       "      <td>...</td>\n",
       "      <td>0.1407</td>\n",
       "      <td>0.1408</td>\n",
       "      <td>0.1413</td>\n",
       "      <td>0.1414</td>\n",
       "      <td>0.1437</td>\n",
       "      <td>0.1481</td>\n",
       "      <td>0.1523</td>\n",
       "      <td>0.1584</td>\n",
       "      <td>0.1583</td>\n",
       "      <td>0.1604</td>\n",
       "    </tr>\n",
       "    <tr>\n",
       "      <th>1</th>\n",
       "      <td>Cruz and Robio attrack Trump in US election de...</td>\n",
       "      <td>0.1243</td>\n",
       "      <td>0.1543</td>\n",
       "      <td>0.1444</td>\n",
       "      <td>0.1417</td>\n",
       "      <td>0.1396</td>\n",
       "      <td>0.1393</td>\n",
       "      <td>0.1398</td>\n",
       "      <td>0.1374</td>\n",
       "      <td>0.1358</td>\n",
       "      <td>...</td>\n",
       "      <td>0.1329</td>\n",
       "      <td>0.1352</td>\n",
       "      <td>0.1371</td>\n",
       "      <td>0.1362</td>\n",
       "      <td>0.1366</td>\n",
       "      <td>0.1377</td>\n",
       "      <td>0.1364</td>\n",
       "      <td>0.1361</td>\n",
       "      <td>0.1351</td>\n",
       "      <td>0.1345</td>\n",
       "    </tr>\n",
       "    <tr>\n",
       "      <th>2</th>\n",
       "      <td>US election: Highlights from the Republican de...</td>\n",
       "      <td>0.3286</td>\n",
       "      <td>0.1921</td>\n",
       "      <td>0.1701</td>\n",
       "      <td>0.1589</td>\n",
       "      <td>0.1546</td>\n",
       "      <td>0.1449</td>\n",
       "      <td>0.1545</td>\n",
       "      <td>0.1588</td>\n",
       "      <td>0.1614</td>\n",
       "      <td>...</td>\n",
       "      <td>0.1460</td>\n",
       "      <td>0.1460</td>\n",
       "      <td>0.1460</td>\n",
       "      <td>0.1460</td>\n",
       "      <td>0.1460</td>\n",
       "      <td>0.1460</td>\n",
       "      <td>0.1460</td>\n",
       "      <td>0.1460</td>\n",
       "      <td>0.1460</td>\n",
       "      <td>0.1460</td>\n",
       "    </tr>\n",
       "    <tr>\n",
       "      <th>3</th>\n",
       "      <td>US election 2016: Republicans to battle in Tex...</td>\n",
       "      <td>0.3478</td>\n",
       "      <td>0.2241</td>\n",
       "      <td>0.1846</td>\n",
       "      <td>0.1615</td>\n",
       "      <td>0.1530</td>\n",
       "      <td>0.1454</td>\n",
       "      <td>0.1353</td>\n",
       "      <td>0.1264</td>\n",
       "      <td>0.1323</td>\n",
       "      <td>...</td>\n",
       "      <td>0.1216</td>\n",
       "      <td>0.1206</td>\n",
       "      <td>0.1164</td>\n",
       "      <td>0.1224</td>\n",
       "      <td>0.1184</td>\n",
       "      <td>0.1200</td>\n",
       "      <td>0.1190</td>\n",
       "      <td>0.1156</td>\n",
       "      <td>0.1156</td>\n",
       "      <td>0.1156</td>\n",
       "    </tr>\n",
       "    <tr>\n",
       "      <th>4</th>\n",
       "      <td>US election 2016: Did socialism save this US t...</td>\n",
       "      <td>0.0995</td>\n",
       "      <td>0.1129</td>\n",
       "      <td>0.1213</td>\n",
       "      <td>0.1146</td>\n",
       "      <td>0.1122</td>\n",
       "      <td>0.1117</td>\n",
       "      <td>0.1097</td>\n",
       "      <td>0.1124</td>\n",
       "      <td>0.1180</td>\n",
       "      <td>...</td>\n",
       "      <td>0.1188</td>\n",
       "      <td>0.1171</td>\n",
       "      <td>0.1159</td>\n",
       "      <td>0.1148</td>\n",
       "      <td>0.1162</td>\n",
       "      <td>0.1150</td>\n",
       "      <td>0.1139</td>\n",
       "      <td>0.1128</td>\n",
       "      <td>0.1175</td>\n",
       "      <td>0.1164</td>\n",
       "    </tr>\n",
       "  </tbody>\n",
       "</table>\n",
       "<p>5 rows × 21 columns</p>\n",
       "</div>"
      ]
     },
     "output_type": "execute_result",
     "metadata": {}
    }
   ],
   "source": [
    "posts.head(222)\n",
    "\n",
    "load_data = []\n",
    "for i in range(1):\n",
    "    load_data[len(load_data):] = [pd.read_csv( path_to_data + 'vector_clustering_positive_200posts.csv', index_col=False, header=None)]\n",
    "\n",
    "load_data[0].head(5)\n",
    "# posts[1].head(10)"
   ]
  },
  {
   "cell_type": "markdown",
   "metadata": {},
   "source": [
    "# Step 1.2 Explore the time series. Visualising."
   ]
  },
  {
   "cell_type": "code",
   "execution_count": null,
   "metadata": {},
   "outputs": [],
   "source": [
    ""
   ]
  },
  {
   "cell_type": "code",
   "execution_count": null,
   "metadata": {},
   "outputs": [],
   "source": [
    ""
   ]
  }
 ],
 "metadata": {
  "kernelspec": {
   "display_name": "Python 3",
   "language": "python",
   "name": "python3"
  },
  "language_info": {
   "codemirror_mode": {
    "name": "ipython",
    "version": 3.0
   },
   "file_extension": ".py",
   "mimetype": "text/x-python",
   "name": "python",
   "nbconvert_exporter": "python",
   "pygments_lexer": "ipython3",
   "version": "3.5.1"
  }
 },
 "nbformat": 4,
 "nbformat_minor": 0
}
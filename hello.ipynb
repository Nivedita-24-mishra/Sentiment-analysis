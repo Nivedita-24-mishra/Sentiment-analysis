{
 "cells": [
  {
   "cell_type": "code",
   "execution_count": 1,
   "id": "8c46b5a2",
   "metadata": {},
   "outputs": [],
   "source": [
    "import pandas\n",
    "import requests\n",
    "import json\n"
   ]
  },
  {
   "cell_type": "code",
   "execution_count": 22,
   "id": "9ab45d61",
   "metadata": {},
   "outputs": [],
   "source": [
    "def page_token():\n",
    "    the_url='https://graph.facebook.com/v13.0/me/accounts?access_token=EAAX0inUEIDEBAHNofNdnVJc9vs1heQ3P322StqZCuWHf9RFtdEQn5i9jHIyKDgHvOZATCYUaiZAK3SsjTt9MwhdCd2hnYFapAcWDKyZAVTQEmDfrIOkfZC1kIMyZAoASfcWry6SUV8bCUwizJaFsVeMZCNJYiZCpGU6TcldjSrkx4rAbqJBUKo5iEeAZAzEokL4CnJLIIKXJSsdERkACFSVIr'\n",
    "    response= requests.get(the_url,\n",
    "                         headers={\n",
    "                             'Authorization':'Bearer'+ 'EAAX0inUEIDEBALIqnQa2EcFIfoMiGS7fGNOqg0wGcygGGAZBhL8HChL5ukfnhc94LOKF92JILloLgZBcZBNqbhwdInoYrTxftO5gkIXpZCbrKWOhRzfj9OS9QtZAy1Ynt3fwTMGsXaQJ3EWeXAmWnn7GFhL7QyFYaRChCJ601jwZDZD',\n",
    "                             'Content-Type':'application/json'\n",
    "                         });\n",
    "    response_data = json.loads(response.text)\n",
    "    return response_data\n"
   ]
  },
  {
   "cell_type": "code",
   "execution_count": 23,
   "id": "fadbf8a2",
   "metadata": {},
   "outputs": [
    {
     "name": "stdout",
     "output_type": "stream",
     "text": [
      "{'data': [{'access_token': 'EAAX0inUEIDEBAGuLhVHaIJKYYn9ktk10qFQa8plxgu0EaV8Yo4BZBG9ehRyioVwWw8IiFtqUmpjOq2kvnaS66OfTfZCZBw8Cpu03Msgo6v9pafEAy9sQ7MTnLYMaZC2VEyyT9YoLEcQP35G8dpNnBlEZCQrGsHsWav1qAAah23SoaufUUNy92laUsZAyYonllUoRFbE9ZCGVQZDZD', 'category': 'Property', 'category_list': [{'id': '198327773511962', 'name': 'Property'}], 'name': 'Hello', 'id': '105361745513512', 'tasks': ['ANALYZE', 'ADVERTISE', 'MESSAGING', 'MODERATE', 'CREATE_CONTENT', 'MANAGE']}, {'access_token': 'EAAX0inUEIDEBAHIcnZCDyoo4lZB9hCjNH7Hj8dTkZC004nmupCXKshNqV5Dgt67R8xjkBR9zoeSMXAvzvqrnZAkLgZBbdYAJcZBSuDRt8kWRUJzAHy4TH7iVtC5XzJKPLajvoL1j2DnclZAcsm2dNBBq0cWBOzE1vMQobdPkTzVv3jszZBxW92X43nZA4CTu35BszdyBpmsDXFgZDZD', 'category': 'Property', 'category_list': [{'id': '198327773511962', 'name': 'Property'}], 'name': 'Talk with Nivedita Mishra', 'id': '111115374938214', 'tasks': ['ANALYZE', 'ADVERTISE', 'MESSAGING', 'MODERATE', 'CREATE_CONTENT', 'MANAGE']}], 'paging': {'cursors': {'before': 'MTA1MzYxNzQ1NTEzNTEy', 'after': 'MTExMTE1Mzc0OTM4MjE0'}}}\n"
     ]
    }
   ],
   "source": [
    "print(page_token())"
   ]
  },
  {
   "cell_type": "code",
   "execution_count": 57,
   "id": "3965132d",
   "metadata": {},
   "outputs": [],
   "source": [
    "total_reaction=[]\n",
    "def total_reactions():\n",
    "    url='https://graph.facebook.com/198327773511962/insights?matric=page_actions_post_reactions_total&since=2021-12-24&until=2022-03-24'\n",
    "    data=requests.get(url,\n",
    "                    headers={\n",
    "                        'Authorization':'Bearer'+ page_token(),\n",
    "                        'Content-Type':'application/json'\n",
    "                    })\n",
    "    tot_reaction=json.loads(data.text)\n",
    "    total_reaction.append(tot_reaction)"
   ]
  },
  {
   "cell_type": "code",
   "execution_count": 58,
   "id": "62448023",
   "metadata": {},
   "outputs": [
    {
     "ename": "TypeError",
     "evalue": "can only concatenate str (not \"dict\") to str",
     "output_type": "error",
     "traceback": [
      "\u001b[1;31m---------------------------------------------------------------------------\u001b[0m",
      "\u001b[1;31mTypeError\u001b[0m                                 Traceback (most recent call last)",
      "\u001b[1;32m~\\AppData\\Local\\Temp/ipykernel_10228/590419139.py\u001b[0m in \u001b[0;36m<module>\u001b[1;34m\u001b[0m\n\u001b[1;32m----> 1\u001b[1;33m \u001b[0mprint\u001b[0m\u001b[1;33m(\u001b[0m\u001b[0mtotal_reactions\u001b[0m\u001b[1;33m(\u001b[0m\u001b[1;33m)\u001b[0m\u001b[1;33m)\u001b[0m\u001b[1;33m\u001b[0m\u001b[1;33m\u001b[0m\u001b[0m\n\u001b[0m",
      "\u001b[1;32m~\\AppData\\Local\\Temp/ipykernel_10228/324957499.py\u001b[0m in \u001b[0;36mtotal_reactions\u001b[1;34m()\u001b[0m\n\u001b[0;32m      4\u001b[0m     data=requests.get(url,\n\u001b[0;32m      5\u001b[0m                     headers={\n\u001b[1;32m----> 6\u001b[1;33m                         \u001b[1;34m'Authorization'\u001b[0m\u001b[1;33m:\u001b[0m\u001b[1;34m'Bearer'\u001b[0m\u001b[1;33m+\u001b[0m \u001b[0mpage_token\u001b[0m\u001b[1;33m(\u001b[0m\u001b[1;33m)\u001b[0m\u001b[1;33m,\u001b[0m\u001b[1;33m\u001b[0m\u001b[1;33m\u001b[0m\u001b[0m\n\u001b[0m\u001b[0;32m      7\u001b[0m                         \u001b[1;34m'Content-Type'\u001b[0m\u001b[1;33m:\u001b[0m\u001b[1;34m'application/json'\u001b[0m\u001b[1;33m\u001b[0m\u001b[1;33m\u001b[0m\u001b[0m\n\u001b[0;32m      8\u001b[0m                     })\n",
      "\u001b[1;31mTypeError\u001b[0m: can only concatenate str (not \"dict\") to str"
     ]
    }
   ],
   "source": [
    "print(total_reactions())"
   ]
  },
  {
   "cell_type": "code",
   "execution_count": null,
   "id": "9f258071",
   "metadata": {},
   "outputs": [],
   "source": []
  },
  {
   "cell_type": "code",
   "execution_count": null,
   "id": "57197686",
   "metadata": {},
   "outputs": [],
   "source": []
  }
 ],
 "metadata": {
  "kernelspec": {
   "display_name": "Python 3 (ipykernel)",
   "language": "python",
   "name": "python3"
  },
  "language_info": {
   "codemirror_mode": {
    "name": "ipython",
    "version": 3
   },
   "file_extension": ".py",
   "mimetype": "text/x-python",
   "name": "python",
   "nbconvert_exporter": "python",
   "pygments_lexer": "ipython3",
   "version": "3.9.7"
  }
 },
 "nbformat": 4,
 "nbformat_minor": 5
}
